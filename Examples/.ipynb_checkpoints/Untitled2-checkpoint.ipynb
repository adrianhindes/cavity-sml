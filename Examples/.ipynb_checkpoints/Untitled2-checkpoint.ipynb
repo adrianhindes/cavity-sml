{
 "cells": [
  {
   "cell_type": "code",
   "execution_count": 1,
   "metadata": {
    "autoscroll": "json-false",
    "collapsed": false,
    "ein.tags": [
     "worksheet-0"
    ],
    "slideshow": {
     "slide_type": "-"
    }
   },
   "outputs": [
    {
     "ename": "SystemExit",
     "evalue": "1",
     "output_type": "error",
     "traceback": [
      "An exception has occurred, use %tb to see the full traceback.\n",
      "\u001b[0;31mSystemExit\u001b[0m\u001b[0;31m:\u001b[0m 1\n"
     ]
    },
    {
     "name": "stderr",
     "output_type": "stream",
     "text": [
      "/home/adrian/.pyenv/versions/3.5.1/lib/python3.5/site-packages/IPython/core/interactiveshell.py:2889: UserWarning: To exit: use 'exit', 'quit', or Ctrl-D.\n",
      "  warn(\"To exit: use 'exit', 'quit', or Ctrl-D.\", stacklevel=1)\n"
     ]
    },
    {
     "ename": "SystemExit",
     "evalue": "1",
     "output_type": "error",
     "traceback": [
      "An exception has occurred, use %tb to see the full traceback.\n",
      "\u001b[0;31mSystemExit\u001b[0m\u001b[0;31m:\u001b[0m 1\n"
     ]
    },
    {
     "name": "stdout",
     "output_type": "stream",
     "text": [
      "                                              ..-\n",
      "    PyKat 1.0.17          _                  '(\n",
      "                          \\`.|\\.__...-\"\"\"\"-_.\" )\n",
      "       ..+-----.._        /  ' `            .-'\n",
      "   . '            `:      7/* _/._\\    \\   (\n",
      "  (        '::;;+;;:      `-\"' =\" /,`\"\" `) /\n",
      "  L.        \\`:::a:f            c_/     n_'\n",
      "  ..`--...___`.  .    ,  \n",
      "   `^-....____:   +.      www.gwoptics.org/pykat\n",
      "\n",
      "\u001b[91m\n",
      "--------------------------------------------------------------\n",
      "Error from Finesse:\n",
      "\u001b[1m \n",
      "Error:  photodetector refl not connected to\n",
      "interferometer. \u001b[0m\n",
      "--------------------------------------------------------------\n",
      "\u001b[0m\n"
     ]
    }
   ],
   "source": [
    "import numpy as np\n",
    "import matplotlib\n",
    "import matplotlib.pyplot as plt\n",
    "from pykat import finesse\n",
    "from pykat.commands import *\n",
    "from IPython.display import display, HTML\n",
    "%matplotlib inline\n",
    "pykat.init_pykat_plotting(dpi=90)\n",
    "\n",
    "\n",
    "basekat=finesse.kat()\n",
    "basekat.verbose = False\n",
    "# Finesse-code\n",
    "basecode = \"\"\"\n",
    "l laser 1 0 n0   # Laser (Power = 1 W, wavelength offset = 0)\n",
    "s s1 1 n0 nc1    # Space (Length = 1 m)\n",
    "\n",
    "## The cavity ##\n",
    "m m1 0.7 0.3 0 nc1 nc2  # Mirror  (R = 0.7, T = 0.3, phi = 0)\n",
    "s sL 4000 nc2 nc3       # Space (Length = 4 km)\n",
    "m m2 0.8 0.2 0 nc3 nc4  # Mirror  (R = 0.8, T = 0.2, phi = 0)\n",
    "\"\"\"\n",
    "# Copying basekat\n",
    "kat1 = deepcopy(basekat)\n",
    "\n",
    "# Adding detectors and simulation instructions\n",
    "code = \"\"\"\n",
    "## Detectors ##\n",
    "pd refl nc1        # Photo diode measuring reflected DC power \n",
    "pd circ nc2        # Photo diode measuring circulating DC power\n",
    "pd tran nc4        # Photo diode measuring transmitted DC power\n",
    "\n",
    "## Simulation instructions ##\n",
    "xaxis m1 T lin 0 0.6 200   # Varying transmittance of input mirror m1.\n",
    "yaxis abs                  # Plotting the amplitude of the detector measurements. \n",
    "\n",
    "## Functions computing reflectance and transmittance ##\n",
    "func R1 = 1-$x1             # Reflectance of m1 (lossless)\n",
    "func T2 = 0.6 - $x1         # Transmittance of m2 (T1 + T2 = 0.6)\n",
    "func R2 = 1-$T2             # Reflectance of m2\n",
    "\n",
    "## Setting values ## \n",
    "put m1 R $R1                # Setting reflectance of m1 to R1\n",
    "put m2 T $T2                # Setting transmittance of m2 to T2\n",
    "put m2 R $R2                # Setting reflectance of m2 to R2\n",
    "\"\"\"\n",
    "\n",
    "kat1.parseCommands(code) # Parsing the FINESSE-code\n",
    "out1 = kat1.run()       # Running the FINESSE-simulation, storing output in out1."
   ]
  }
 ],
 "metadata": {
  "kernelspec": {
   "display_name": "Python 3",
   "name": "python3"
  },
  "name": "Untitled2.ipynb"
 },
 "nbformat": 4,
 "nbformat_minor": 2
}
